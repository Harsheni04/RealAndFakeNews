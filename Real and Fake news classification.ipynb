{
  "cells": [
    {
      "cell_type": "markdown",
      "metadata": {
        "id": "pGEKMQgkYSy9"
      },
      "source": [
        "## **Importing libraries**"
      ]
    },
    {
      "cell_type": "markdown",
      "metadata": {
        "id": "vVqs8NR-xLZ1"
      },
      "source": [
        "***NLTK*** :natural language processing\n",
        "\n",
        "  *SnowballStemmer*, a stemming algorithm in NLTK used to reduce words to their\n",
        "   root or base form.\n",
        "\n",
        "***Scikit-learn*** : (sklearn) is a machine learning library for Python.\n",
        "\n",
        "  *TfidfVectorizer* is a class in the sklearn used for converting a collection of raw documents into a matrix of TF-IDF (Term Frequency-Inverse Document Frequency) features."
      ]
    },
    {
      "cell_type": "code",
      "execution_count": 15,
      "metadata": {
        "colab": {
          "base_uri": "https://localhost:8080/"
        },
        "id": "J9170kTuX2eP",
        "outputId": "fb9b435d-5538-4ad1-8280-d593fe4d98c7"
      },
      "outputs": [
        {
          "output_type": "stream",
          "name": "stderr",
          "text": [
            "[nltk_data] Downloading package punkt to /root/nltk_data...\n",
            "[nltk_data]   Package punkt is already up-to-date!\n"
          ]
        }
      ],
      "source": [
        "import nltk\n",
        "nltk.download('punkt')\n",
        "from nltk.tokenize import word_tokenize\n",
        "from nltk.stem.snowball import SnowballStemmer\n",
        "import pandas as pd\n",
        "from nltk.corpus import stopwords\n",
        "from sklearn.model_selection import train_test_split\n",
        "from sklearn.feature_extraction.text import TfidfVectorizer\n",
        "from sklearn.linear_model import LogisticRegression\n",
        "from sklearn.tree import DecisionTreeClassifier\n",
        "from sklearn.metrics import accuracy_score\n",
        "from sklearn.linear_model import PassiveAggressiveClassifier\n",
        "from sklearn.metrics import confusion_matrix\n",
        "import seaborn as sns\n",
        "import matplotlib.pyplot as plt"
      ]
    },
    {
      "cell_type": "markdown",
      "metadata": {
        "id": "WL_nk-PIYXOk"
      },
      "source": [
        "## **Importing the dataset**\n",
        "\n"
      ]
    },
    {
      "cell_type": "markdown",
      "metadata": {
        "id": "3T88NQrc369p"
      },
      "source": [
        "The dataset consists of 2 columns - text and label.\n",
        "\n",
        "text - The news articles.\n",
        "\n",
        "label - Whether each article is classified as real or fake"
      ]
    },
    {
      "cell_type": "code",
      "execution_count": 16,
      "metadata": {
        "colab": {
          "base_uri": "https://localhost:8080/",
          "height": 223
        },
        "id": "Bpzm__VqYa2B",
        "outputId": "266fb40d-7135-4a4f-fe7e-e54c619a6754"
      },
      "outputs": [
        {
          "output_type": "stream",
          "name": "stdout",
          "text": [
            "Importing the data set\n"
          ]
        },
        {
          "output_type": "execute_result",
          "data": {
            "text/plain": [
              "                                                Text label\n",
              "0   ((In March 30 item, corrects spelling of Kisl...  Real\n",
              "1   ((Refiles December 15 story to clarify areas ...  Real\n",
              "2   ((This Dec. 5 story corrects year in 2nd para...  Real\n",
              "3   ((This Dec. 9 story corrects year in 2nd para...  Real\n",
              "4   ((This December 4 story has been corrected to...  Real"
            ],
            "text/html": [
              "\n",
              "  <div id=\"df-bdf43c51-cbf2-448e-ab23-d477d47bc102\" class=\"colab-df-container\">\n",
              "    <div>\n",
              "<style scoped>\n",
              "    .dataframe tbody tr th:only-of-type {\n",
              "        vertical-align: middle;\n",
              "    }\n",
              "\n",
              "    .dataframe tbody tr th {\n",
              "        vertical-align: top;\n",
              "    }\n",
              "\n",
              "    .dataframe thead th {\n",
              "        text-align: right;\n",
              "    }\n",
              "</style>\n",
              "<table border=\"1\" class=\"dataframe\">\n",
              "  <thead>\n",
              "    <tr style=\"text-align: right;\">\n",
              "      <th></th>\n",
              "      <th>Text</th>\n",
              "      <th>label</th>\n",
              "    </tr>\n",
              "  </thead>\n",
              "  <tbody>\n",
              "    <tr>\n",
              "      <th>0</th>\n",
              "      <td>((In March 30 item, corrects spelling of Kisl...</td>\n",
              "      <td>Real</td>\n",
              "    </tr>\n",
              "    <tr>\n",
              "      <th>1</th>\n",
              "      <td>((Refiles December 15 story to clarify areas ...</td>\n",
              "      <td>Real</td>\n",
              "    </tr>\n",
              "    <tr>\n",
              "      <th>2</th>\n",
              "      <td>((This Dec. 5 story corrects year in 2nd para...</td>\n",
              "      <td>Real</td>\n",
              "    </tr>\n",
              "    <tr>\n",
              "      <th>3</th>\n",
              "      <td>((This Dec. 9 story corrects year in 2nd para...</td>\n",
              "      <td>Real</td>\n",
              "    </tr>\n",
              "    <tr>\n",
              "      <th>4</th>\n",
              "      <td>((This December 4 story has been corrected to...</td>\n",
              "      <td>Real</td>\n",
              "    </tr>\n",
              "  </tbody>\n",
              "</table>\n",
              "</div>\n",
              "    <div class=\"colab-df-buttons\">\n",
              "\n",
              "  <div class=\"colab-df-container\">\n",
              "    <button class=\"colab-df-convert\" onclick=\"convertToInteractive('df-bdf43c51-cbf2-448e-ab23-d477d47bc102')\"\n",
              "            title=\"Convert this dataframe to an interactive table.\"\n",
              "            style=\"display:none;\">\n",
              "\n",
              "  <svg xmlns=\"http://www.w3.org/2000/svg\" height=\"24px\" viewBox=\"0 -960 960 960\">\n",
              "    <path d=\"M120-120v-720h720v720H120Zm60-500h600v-160H180v160Zm220 220h160v-160H400v160Zm0 220h160v-160H400v160ZM180-400h160v-160H180v160Zm440 0h160v-160H620v160ZM180-180h160v-160H180v160Zm440 0h160v-160H620v160Z\"/>\n",
              "  </svg>\n",
              "    </button>\n",
              "\n",
              "  <style>\n",
              "    .colab-df-container {\n",
              "      display:flex;\n",
              "      gap: 12px;\n",
              "    }\n",
              "\n",
              "    .colab-df-convert {\n",
              "      background-color: #E8F0FE;\n",
              "      border: none;\n",
              "      border-radius: 50%;\n",
              "      cursor: pointer;\n",
              "      display: none;\n",
              "      fill: #1967D2;\n",
              "      height: 32px;\n",
              "      padding: 0 0 0 0;\n",
              "      width: 32px;\n",
              "    }\n",
              "\n",
              "    .colab-df-convert:hover {\n",
              "      background-color: #E2EBFA;\n",
              "      box-shadow: 0px 1px 2px rgba(60, 64, 67, 0.3), 0px 1px 3px 1px rgba(60, 64, 67, 0.15);\n",
              "      fill: #174EA6;\n",
              "    }\n",
              "\n",
              "    .colab-df-buttons div {\n",
              "      margin-bottom: 4px;\n",
              "    }\n",
              "\n",
              "    [theme=dark] .colab-df-convert {\n",
              "      background-color: #3B4455;\n",
              "      fill: #D2E3FC;\n",
              "    }\n",
              "\n",
              "    [theme=dark] .colab-df-convert:hover {\n",
              "      background-color: #434B5C;\n",
              "      box-shadow: 0px 1px 3px 1px rgba(0, 0, 0, 0.15);\n",
              "      filter: drop-shadow(0px 1px 2px rgba(0, 0, 0, 0.3));\n",
              "      fill: #FFFFFF;\n",
              "    }\n",
              "  </style>\n",
              "\n",
              "    <script>\n",
              "      const buttonEl =\n",
              "        document.querySelector('#df-bdf43c51-cbf2-448e-ab23-d477d47bc102 button.colab-df-convert');\n",
              "      buttonEl.style.display =\n",
              "        google.colab.kernel.accessAllowed ? 'block' : 'none';\n",
              "\n",
              "      async function convertToInteractive(key) {\n",
              "        const element = document.querySelector('#df-bdf43c51-cbf2-448e-ab23-d477d47bc102');\n",
              "        const dataTable =\n",
              "          await google.colab.kernel.invokeFunction('convertToInteractive',\n",
              "                                                    [key], {});\n",
              "        if (!dataTable) return;\n",
              "\n",
              "        const docLinkHtml = 'Like what you see? Visit the ' +\n",
              "          '<a target=\"_blank\" href=https://colab.research.google.com/notebooks/data_table.ipynb>data table notebook</a>'\n",
              "          + ' to learn more about interactive tables.';\n",
              "        element.innerHTML = '';\n",
              "        dataTable['output_type'] = 'display_data';\n",
              "        await google.colab.output.renderOutput(dataTable, element);\n",
              "        const docLink = document.createElement('div');\n",
              "        docLink.innerHTML = docLinkHtml;\n",
              "        element.appendChild(docLink);\n",
              "      }\n",
              "    </script>\n",
              "  </div>\n",
              "\n",
              "\n",
              "<div id=\"df-a2f172a8-9293-43c8-a7f4-35edfade65ef\">\n",
              "  <button class=\"colab-df-quickchart\" onclick=\"quickchart('df-a2f172a8-9293-43c8-a7f4-35edfade65ef')\"\n",
              "            title=\"Suggest charts\"\n",
              "            style=\"display:none;\">\n",
              "\n",
              "<svg xmlns=\"http://www.w3.org/2000/svg\" height=\"24px\"viewBox=\"0 0 24 24\"\n",
              "     width=\"24px\">\n",
              "    <g>\n",
              "        <path d=\"M19 3H5c-1.1 0-2 .9-2 2v14c0 1.1.9 2 2 2h14c1.1 0 2-.9 2-2V5c0-1.1-.9-2-2-2zM9 17H7v-7h2v7zm4 0h-2V7h2v10zm4 0h-2v-4h2v4z\"/>\n",
              "    </g>\n",
              "</svg>\n",
              "  </button>\n",
              "\n",
              "<style>\n",
              "  .colab-df-quickchart {\n",
              "      --bg-color: #E8F0FE;\n",
              "      --fill-color: #1967D2;\n",
              "      --hover-bg-color: #E2EBFA;\n",
              "      --hover-fill-color: #174EA6;\n",
              "      --disabled-fill-color: #AAA;\n",
              "      --disabled-bg-color: #DDD;\n",
              "  }\n",
              "\n",
              "  [theme=dark] .colab-df-quickchart {\n",
              "      --bg-color: #3B4455;\n",
              "      --fill-color: #D2E3FC;\n",
              "      --hover-bg-color: #434B5C;\n",
              "      --hover-fill-color: #FFFFFF;\n",
              "      --disabled-bg-color: #3B4455;\n",
              "      --disabled-fill-color: #666;\n",
              "  }\n",
              "\n",
              "  .colab-df-quickchart {\n",
              "    background-color: var(--bg-color);\n",
              "    border: none;\n",
              "    border-radius: 50%;\n",
              "    cursor: pointer;\n",
              "    display: none;\n",
              "    fill: var(--fill-color);\n",
              "    height: 32px;\n",
              "    padding: 0;\n",
              "    width: 32px;\n",
              "  }\n",
              "\n",
              "  .colab-df-quickchart:hover {\n",
              "    background-color: var(--hover-bg-color);\n",
              "    box-shadow: 0 1px 2px rgba(60, 64, 67, 0.3), 0 1px 3px 1px rgba(60, 64, 67, 0.15);\n",
              "    fill: var(--button-hover-fill-color);\n",
              "  }\n",
              "\n",
              "  .colab-df-quickchart-complete:disabled,\n",
              "  .colab-df-quickchart-complete:disabled:hover {\n",
              "    background-color: var(--disabled-bg-color);\n",
              "    fill: var(--disabled-fill-color);\n",
              "    box-shadow: none;\n",
              "  }\n",
              "\n",
              "  .colab-df-spinner {\n",
              "    border: 2px solid var(--fill-color);\n",
              "    border-color: transparent;\n",
              "    border-bottom-color: var(--fill-color);\n",
              "    animation:\n",
              "      spin 1s steps(1) infinite;\n",
              "  }\n",
              "\n",
              "  @keyframes spin {\n",
              "    0% {\n",
              "      border-color: transparent;\n",
              "      border-bottom-color: var(--fill-color);\n",
              "      border-left-color: var(--fill-color);\n",
              "    }\n",
              "    20% {\n",
              "      border-color: transparent;\n",
              "      border-left-color: var(--fill-color);\n",
              "      border-top-color: var(--fill-color);\n",
              "    }\n",
              "    30% {\n",
              "      border-color: transparent;\n",
              "      border-left-color: var(--fill-color);\n",
              "      border-top-color: var(--fill-color);\n",
              "      border-right-color: var(--fill-color);\n",
              "    }\n",
              "    40% {\n",
              "      border-color: transparent;\n",
              "      border-right-color: var(--fill-color);\n",
              "      border-top-color: var(--fill-color);\n",
              "    }\n",
              "    60% {\n",
              "      border-color: transparent;\n",
              "      border-right-color: var(--fill-color);\n",
              "    }\n",
              "    80% {\n",
              "      border-color: transparent;\n",
              "      border-right-color: var(--fill-color);\n",
              "      border-bottom-color: var(--fill-color);\n",
              "    }\n",
              "    90% {\n",
              "      border-color: transparent;\n",
              "      border-bottom-color: var(--fill-color);\n",
              "    }\n",
              "  }\n",
              "</style>\n",
              "\n",
              "  <script>\n",
              "    async function quickchart(key) {\n",
              "      const quickchartButtonEl =\n",
              "        document.querySelector('#' + key + ' button');\n",
              "      quickchartButtonEl.disabled = true;  // To prevent multiple clicks.\n",
              "      quickchartButtonEl.classList.add('colab-df-spinner');\n",
              "      try {\n",
              "        const charts = await google.colab.kernel.invokeFunction(\n",
              "            'suggestCharts', [key], {});\n",
              "      } catch (error) {\n",
              "        console.error('Error during call to suggestCharts:', error);\n",
              "      }\n",
              "      quickchartButtonEl.classList.remove('colab-df-spinner');\n",
              "      quickchartButtonEl.classList.add('colab-df-quickchart-complete');\n",
              "    }\n",
              "    (() => {\n",
              "      let quickchartButtonEl =\n",
              "        document.querySelector('#df-a2f172a8-9293-43c8-a7f4-35edfade65ef button');\n",
              "      quickchartButtonEl.style.display =\n",
              "        google.colab.kernel.accessAllowed ? 'block' : 'none';\n",
              "    })();\n",
              "  </script>\n",
              "</div>\n",
              "    </div>\n",
              "  </div>\n"
            ],
            "application/vnd.google.colaboratory.intrinsic+json": {
              "type": "dataframe",
              "variable_name": "data",
              "summary": "{\n  \"name\": \"data\",\n  \"rows\": 38654,\n  \"fields\": [\n    {\n      \"column\": \"Text\",\n      \"properties\": {\n        \"dtype\": \"string\",\n        \"num_unique_values\": 38654,\n        \"samples\": [\n          \"HOUSTON (Reuters) - Buckeye Partners LP s Yabucoa oil terminal in Puerto Rico remained closed on Friday, the company said, days after Hurricane Maria left a trail of destruction and at least 25 people dead across the Caribbean. The U.S. oil storage and transportation company did not say if the tanks at the 4.6-million-barrel terminal were damaged by the storm, which made landfall near Yabucoa, but it said a full assessment of the facility is under way.  We are working to maintain the safety and well-being of our Yabucoa, Puerto Rico employees,  it said in a statement. A larger terminal operated by U.S. NuStar Energy LP on the island of St. Eustatius, with capacity to store up to 13.03 million barrels of oil, also has been unable to reopen after a previous hurricane, Irma, affected several tanks. The closure of oil terminals in the Caribbean and restrictions to load and discharge large vessels in several Texas ports have constrained flows of crude and refined products across the Atlantic in recent weeks. Maria, the second major hurricane to hit the Caribbean this month, lashed the Turks and Caicos Islands on Friday after knocking out power to all of Puerto Rico and pushing several rivers to record flood levels. \",\n          \"HONOLULU (Reuters) - U.S. President Barack Obama said in an interview broadcast on Monday that he would have won most Americans\\u00e2\\u20ac\\u2122 support if he had been able to run against Donald Trump for a third term. \\u00e2\\u20ac\\u0153No way!\\u00e2\\u20ac\\u009d Trump countered in a tweet, citing as liabilities U.S. companies taking jobs overseas, the fight against Islamic State militants and Obama\\u00e2\\u20ac\\u2122s signature healthcare law. Barred by the U.S. Constitution from seeking a third four-year-term, the president told his former adviser David Axelrod in a podcast that Americans would have backed Obama\\u00e2\\u20ac\\u2122s vision. \\u00e2\\u20ac\\u0153I\\u00e2\\u20ac\\u2122m confident that if I had run again and articulated it, I think I could\\u00e2\\u20ac\\u2122ve mobilized a majority of the American people to rally behind it,\\u00e2\\u20ac\\u009d Obama said, referring to his 2008 campaign message of hope and change. A wealthy businessman, the Republican Trump will assume his first public office when he succeeds Obama on Jan. 20. He defeated Democrat Hillary Clinton on Nov. 8 with a promise to clean up Washington. In a tweet, Clinton spokesman Brian Fallon said Obama would have beaten Trump and Clinton would have won if not for an FBI statement shortly before the election disclosing new material on Clinton\\u00e2\\u20ac\\u2122s email practices as secretary of state. Clinton\\u00e2\\u20ac\\u2122s aides have said FBI Director James Comey\\u00e2\\u20ac\\u2122s announcement, which led to no charges, swung the election, a charge Trump\\u00e2\\u20ac\\u2122s team has dismissed. Obama said Clinton \\u00e2\\u20ac\\u0153performed wonderfully under really tough circumstances.\\u00e2\\u20ac\\u009d He said she focused on Trump\\u00e2\\u20ac\\u2122s flaws and could have argued more that the Democratic Party agenda helped working people. Trump garnered more than 270 of the 538 state-by-state electoral votes to win the presidency. Clinton won 48.2 percent of the popular vote compared with 46.1 percent for Trump, according to the Associated Press. \",\n          \"There is only ONE WAY to STOP this mosque from being built against the wishes of citizens in this RESIDENTIAL area, whose citizens are comprised of mostly Christian refugees that fled from Iraq to escape persecution at the hands of Muslims in their homeland: Call the US DOJ and ask our new Attorney General Jeff Sessions to review this case TODAY and ask the DOJ to STOP the mega-mosque from being built: 202-514-2000 A city of 130,000 people in southeastern Michigan is under the gun of Islamic pressure following its denial of a mega-mosque in a residential neighborhood populated largely by Christian refugees who fled Islamic persecution in Iraq.Sterling Heights already has two mosques, but a third, the American Islamic Community Center, applied for a permit and was rejected after it was determined its proposed use was incompatible with the residential area. Too much traffic, too little parking, the city planning commission decided by a 9-0 vote against the mosque in September 2015.But in December, the mosque sued the city and the Obama Justice Department joined in, claiming the real reason the mosque was denied was because the city was caving to anti-Muslim bigotry in the community. Now, a settlement deal is headed to the Sterling Heights City Council on Tuesday evening. If the council votes to sign the deal, it could be very costly for the city.Watch the attorney for the mosque developers call the reasons these mostly Christian refugees from Iraq are in opposition to a mosque being built its their residential neighborhood  fake :Local residents fear it s a bad deal, something similar to the Obama DOJ-orchestrated deal forced upon nearby Pittsfield Township, Michigan, last year. That town had to pay out $1.7 million to local Muslims to whom it had denied a permit for an Islamic school, and township employees were ordered to undergo sensitivity training to assure they never again discriminate against Muslims.Attorney General Jeff Sessions could cancel any similar deal from taking effect in Sterling Heights, but only if he is aware of it and acts quickly. If the city council is found to be cooperating with the Obama DOJ staff who are expediting this consent order to stick it to the Sessions/Trump team, then this city will go nuts,  said Dick Manaserri, spokesman for Secure Michigan, a group formed to educate the public on Shariah law and how it differs from American law.In last November s presidential election, Donald Trump carried Sterling Heights, normally a Democratic Party stronghold, by 56 to 44 percent over Hillary Clinton. He also carried Macomb County, home to Sterling Heights and also a Democratic-oriented county.But Trump s new AG, Sessions, is apparently not yet fully in control of the Justice Department, which includes many holdovers from the Obama administration. Why else would Jeff Sessions not dismiss the Obama DOJ lawsuit against Sterling Heights?  Manaserri asks.  We have been told by legal experts that he has the power to simply dismiss the lawsuit. A consent order typically implies wrongdoing with the application of penalties. When the planning commission denied the mosque permit in September 2015, hundreds of Sterling Heights residents gathered outside City Hall to celebrate. That celebration was caught on video, and critics cited it as evidence the city was somehow biased against Muslims. Tom Mitchell is a resident of Sterling Heights whose family has been there since 1965. He s seen the city s transformation over the past couple of decades under the control of what he calls  progressives.  He avoids the world  Democrat  because the city s elections are technically nonpartisan. I feel that with the left taking over, they are destroying this community. I don t want to become another Dearborn or a Hamtramck. And our elected officials are enabling this takeover,  he said.Hamtramck, just a few miles south of Sterling Heights, became the nation s first city with a Muslim-majority city council in 2016, and a large portion of Dearborn resembles a Middle Eastern country with signs in Arabic and women walking the streets with their faces veiled.He said it s not a matter of discrimination. Churches have been denied building projects in the past because their sites were too close to residential housing. They didn t get the federal government to sue the city; they simply picked another site. I truly believe this one man, Mr. Sessions, has the power to throw out any consent decree that was engineered by Obama s Department of Justice. That is our hope,  Mitchell said.  In fact, I know of hundreds of us who are praying for that opportunity to get it in Jeff Sessions  hands, before Tuesday night, because once it s signed, how do you overturn that? Signing it is tantamount to a consent that we re a bunch of bigots here in Sterling Heights. Calls to Sessions  press office went unanswered Monday as all federal offices were closed for President s Day. A stinger in the eye  of Iraqi Christians in Sterling HeightsMitchell said he and others are trying to get the word out in the community that the Tuesday council meeting will include an agenda item on a proposed settlement to the lawsuit.But the city council did not publish its Tuesday-night agenda in the local legal newspaper, the weekly Sterling Heights Sentry, and it didn t put a notice on its official website until late Friday. We just found out about this, so we ve been rushing to try to put together an opposition to stop the city from signing this document, which is an admission of guilt to something we don t think we committed,  Mitchell said.  As a local resident, I m gonna say we don t discriminate in Sterling Heights. We ve already got two mosques, a Sikh temple, a Buddhist temple and many other diverse houses of worship, so for this city to be called discriminatory is unbelievable. The unfortunate thing is, they want to plop it right in the middle of a Chaldean Christian neighborhood,  Mitchell added.  Somebody planned that. Somebody is seeking to put a stinger in someone s eye. Dr. Ramsay Dass, M.D., president of the American Middle East Christian Congress, said he is not so concerned about another mosque being built in Sterling Heights. He s more concerned about the big picture of political pressure being placed on small cities by an out-of-control federal bureaucracy using coercive tactics. As an American citizen, they are entitled to build a mosque, but I do not believe in making laws that small cities and towns cannot fight politically or financially,  Dass told WND.The federal law being used to coerce cities into approving mosques, even when the mosque is in a residential neighborhood, is the Religion Land Use and Institutional Persons Act, or RELUIPA, which was passed by Congress in 2000.As WND has reported, the Obama administration used this law increasingly against communities denying mosques and less against those denying the construction of churches.Nahren Anweya is a spokesperson for the persecuted Middle Eastern Christians living in Michigan. She has appeared on Fox News and spoken at congressional hearings on Christian persecution in the Middle East. Her family has been living in Michigan since they escaped Iraq in 1989. She said Sterling Heights is home to the nation s second largest Chaldean Catholic community of Iraqi Christians. They thought they found a safe haven, only to find out their ancient nemesis, the Middle Eastern Sunni Muslims, were being resettled in the same county and wanted to build a mosque right in the middle of their neighborhood.Most Iraqi Christians are either Chaldean Catholic or members of an even more ancient Christian sect, the Assyrian Church of the East. The Assyrians speak Aramaic, the language of Jesus. My family they re pretty patriotic American Assyrian Christians. Both of my great-grandfathers were crucified by Muslims literally on a cross,  Anweya told WND.  And that was because they were proud Christians, my great-grandfather used to walk around with a large gold cross around his neck, we never tried to hide it. So to see those ancient persecutors not only showing up in Macomb County en masse, but building a mosque on top of the Chaldean neighborhood, is  traumatizing,  Anweya said. While we are living in our safe haven, to allow a mosque to be built where we are is like putting us back to Iraq. We left everything behind to start from scratch, and then watching it follow us, this is traumatizing,  she said.  There are so many Muslim countries who could take these Muslim refugees, but they send them here. If we were treated fairly in their countries, then I would say let them build as many mosques as they want, but that day is far from reality. She said Muslim leaders don t believe in equality, and anything they say on that level is mere pandering to gullible local Christians. They don t believe in equality, even if they say they do,  she said.  Show me a Muslim country where Christians are treated 100 percent equal. Why is Christianity being degraded in every Muslim country? In 2003, we were 1.3 million Christians in Iraq, and that is where Christianity began and thrived, and now these are people who would be beheaded for their Christian faith. So, she said, the Assyrian and Chaldean communities have news for the Islamic centers that wish to build in their midst: These people are not going to give up their Christian faith,  Anweya said.  Where a nation is most vulnerable, is when they are not even calling themselves Christian anymore, that s the most dangerous I believe. When the sword is placed to your neck it s too late,  she added.  The Christians from Iraq, we are not building churches in Dearborn, so why are they building mosques in Sterling Heights? If we started building churches in Dearborn, I think you would see a few protests coming from them. Read more at:WND \"\n        ],\n        \"semantic_type\": \"\",\n        \"description\": \"\"\n      }\n    },\n    {\n      \"column\": \"label\",\n      \"properties\": {\n        \"dtype\": \"category\",\n        \"num_unique_values\": 2,\n        \"samples\": [\n          \"Fake\",\n          \"Real\"\n        ],\n        \"semantic_type\": \"\",\n        \"description\": \"\"\n      }\n    }\n  ]\n}"
            }
          },
          "metadata": {},
          "execution_count": 16
        }
      ],
      "source": [
        "print('Importing the data set')\n",
        "data = pd.read_csv(\"Training.csv\")\n",
        "data.head()"
      ]
    },
    {
      "cell_type": "markdown",
      "metadata": {
        "id": "dY4dQe8QYmt-"
      },
      "source": [
        "**Labeling the label attribute**\n",
        "\n",
        "Select the column named 'label' from the Dataset and map the values 'Real' to 1 and 'Fake' to 0. This converts categorical labels into numerical values."
      ]
    },
    {
      "cell_type": "code",
      "execution_count": 17,
      "metadata": {
        "colab": {
          "base_uri": "https://localhost:8080/",
          "height": 206
        },
        "id": "QIpqfu15Ysf-",
        "outputId": "b3099247-bcce-451f-b0c7-7dbbecd74cad"
      },
      "outputs": [
        {
          "output_type": "execute_result",
          "data": {
            "text/plain": [
              "                                                Text  label\n",
              "0   ((In March 30 item, corrects spelling of Kisl...      1\n",
              "1   ((Refiles December 15 story to clarify areas ...      1\n",
              "2   ((This Dec. 5 story corrects year in 2nd para...      1\n",
              "3   ((This Dec. 9 story corrects year in 2nd para...      1\n",
              "4   ((This December 4 story has been corrected to...      1"
            ],
            "text/html": [
              "\n",
              "  <div id=\"df-5ab2a179-95c8-4e40-8310-6955fc32b819\" class=\"colab-df-container\">\n",
              "    <div>\n",
              "<style scoped>\n",
              "    .dataframe tbody tr th:only-of-type {\n",
              "        vertical-align: middle;\n",
              "    }\n",
              "\n",
              "    .dataframe tbody tr th {\n",
              "        vertical-align: top;\n",
              "    }\n",
              "\n",
              "    .dataframe thead th {\n",
              "        text-align: right;\n",
              "    }\n",
              "</style>\n",
              "<table border=\"1\" class=\"dataframe\">\n",
              "  <thead>\n",
              "    <tr style=\"text-align: right;\">\n",
              "      <th></th>\n",
              "      <th>Text</th>\n",
              "      <th>label</th>\n",
              "    </tr>\n",
              "  </thead>\n",
              "  <tbody>\n",
              "    <tr>\n",
              "      <th>0</th>\n",
              "      <td>((In March 30 item, corrects spelling of Kisl...</td>\n",
              "      <td>1</td>\n",
              "    </tr>\n",
              "    <tr>\n",
              "      <th>1</th>\n",
              "      <td>((Refiles December 15 story to clarify areas ...</td>\n",
              "      <td>1</td>\n",
              "    </tr>\n",
              "    <tr>\n",
              "      <th>2</th>\n",
              "      <td>((This Dec. 5 story corrects year in 2nd para...</td>\n",
              "      <td>1</td>\n",
              "    </tr>\n",
              "    <tr>\n",
              "      <th>3</th>\n",
              "      <td>((This Dec. 9 story corrects year in 2nd para...</td>\n",
              "      <td>1</td>\n",
              "    </tr>\n",
              "    <tr>\n",
              "      <th>4</th>\n",
              "      <td>((This December 4 story has been corrected to...</td>\n",
              "      <td>1</td>\n",
              "    </tr>\n",
              "  </tbody>\n",
              "</table>\n",
              "</div>\n",
              "    <div class=\"colab-df-buttons\">\n",
              "\n",
              "  <div class=\"colab-df-container\">\n",
              "    <button class=\"colab-df-convert\" onclick=\"convertToInteractive('df-5ab2a179-95c8-4e40-8310-6955fc32b819')\"\n",
              "            title=\"Convert this dataframe to an interactive table.\"\n",
              "            style=\"display:none;\">\n",
              "\n",
              "  <svg xmlns=\"http://www.w3.org/2000/svg\" height=\"24px\" viewBox=\"0 -960 960 960\">\n",
              "    <path d=\"M120-120v-720h720v720H120Zm60-500h600v-160H180v160Zm220 220h160v-160H400v160Zm0 220h160v-160H400v160ZM180-400h160v-160H180v160Zm440 0h160v-160H620v160ZM180-180h160v-160H180v160Zm440 0h160v-160H620v160Z\"/>\n",
              "  </svg>\n",
              "    </button>\n",
              "\n",
              "  <style>\n",
              "    .colab-df-container {\n",
              "      display:flex;\n",
              "      gap: 12px;\n",
              "    }\n",
              "\n",
              "    .colab-df-convert {\n",
              "      background-color: #E8F0FE;\n",
              "      border: none;\n",
              "      border-radius: 50%;\n",
              "      cursor: pointer;\n",
              "      display: none;\n",
              "      fill: #1967D2;\n",
              "      height: 32px;\n",
              "      padding: 0 0 0 0;\n",
              "      width: 32px;\n",
              "    }\n",
              "\n",
              "    .colab-df-convert:hover {\n",
              "      background-color: #E2EBFA;\n",
              "      box-shadow: 0px 1px 2px rgba(60, 64, 67, 0.3), 0px 1px 3px 1px rgba(60, 64, 67, 0.15);\n",
              "      fill: #174EA6;\n",
              "    }\n",
              "\n",
              "    .colab-df-buttons div {\n",
              "      margin-bottom: 4px;\n",
              "    }\n",
              "\n",
              "    [theme=dark] .colab-df-convert {\n",
              "      background-color: #3B4455;\n",
              "      fill: #D2E3FC;\n",
              "    }\n",
              "\n",
              "    [theme=dark] .colab-df-convert:hover {\n",
              "      background-color: #434B5C;\n",
              "      box-shadow: 0px 1px 3px 1px rgba(0, 0, 0, 0.15);\n",
              "      filter: drop-shadow(0px 1px 2px rgba(0, 0, 0, 0.3));\n",
              "      fill: #FFFFFF;\n",
              "    }\n",
              "  </style>\n",
              "\n",
              "    <script>\n",
              "      const buttonEl =\n",
              "        document.querySelector('#df-5ab2a179-95c8-4e40-8310-6955fc32b819 button.colab-df-convert');\n",
              "      buttonEl.style.display =\n",
              "        google.colab.kernel.accessAllowed ? 'block' : 'none';\n",
              "\n",
              "      async function convertToInteractive(key) {\n",
              "        const element = document.querySelector('#df-5ab2a179-95c8-4e40-8310-6955fc32b819');\n",
              "        const dataTable =\n",
              "          await google.colab.kernel.invokeFunction('convertToInteractive',\n",
              "                                                    [key], {});\n",
              "        if (!dataTable) return;\n",
              "\n",
              "        const docLinkHtml = 'Like what you see? Visit the ' +\n",
              "          '<a target=\"_blank\" href=https://colab.research.google.com/notebooks/data_table.ipynb>data table notebook</a>'\n",
              "          + ' to learn more about interactive tables.';\n",
              "        element.innerHTML = '';\n",
              "        dataTable['output_type'] = 'display_data';\n",
              "        await google.colab.output.renderOutput(dataTable, element);\n",
              "        const docLink = document.createElement('div');\n",
              "        docLink.innerHTML = docLinkHtml;\n",
              "        element.appendChild(docLink);\n",
              "      }\n",
              "    </script>\n",
              "  </div>\n",
              "\n",
              "\n",
              "<div id=\"df-93dc7b83-8360-496c-be16-ed2d4e225ba0\">\n",
              "  <button class=\"colab-df-quickchart\" onclick=\"quickchart('df-93dc7b83-8360-496c-be16-ed2d4e225ba0')\"\n",
              "            title=\"Suggest charts\"\n",
              "            style=\"display:none;\">\n",
              "\n",
              "<svg xmlns=\"http://www.w3.org/2000/svg\" height=\"24px\"viewBox=\"0 0 24 24\"\n",
              "     width=\"24px\">\n",
              "    <g>\n",
              "        <path d=\"M19 3H5c-1.1 0-2 .9-2 2v14c0 1.1.9 2 2 2h14c1.1 0 2-.9 2-2V5c0-1.1-.9-2-2-2zM9 17H7v-7h2v7zm4 0h-2V7h2v10zm4 0h-2v-4h2v4z\"/>\n",
              "    </g>\n",
              "</svg>\n",
              "  </button>\n",
              "\n",
              "<style>\n",
              "  .colab-df-quickchart {\n",
              "      --bg-color: #E8F0FE;\n",
              "      --fill-color: #1967D2;\n",
              "      --hover-bg-color: #E2EBFA;\n",
              "      --hover-fill-color: #174EA6;\n",
              "      --disabled-fill-color: #AAA;\n",
              "      --disabled-bg-color: #DDD;\n",
              "  }\n",
              "\n",
              "  [theme=dark] .colab-df-quickchart {\n",
              "      --bg-color: #3B4455;\n",
              "      --fill-color: #D2E3FC;\n",
              "      --hover-bg-color: #434B5C;\n",
              "      --hover-fill-color: #FFFFFF;\n",
              "      --disabled-bg-color: #3B4455;\n",
              "      --disabled-fill-color: #666;\n",
              "  }\n",
              "\n",
              "  .colab-df-quickchart {\n",
              "    background-color: var(--bg-color);\n",
              "    border: none;\n",
              "    border-radius: 50%;\n",
              "    cursor: pointer;\n",
              "    display: none;\n",
              "    fill: var(--fill-color);\n",
              "    height: 32px;\n",
              "    padding: 0;\n",
              "    width: 32px;\n",
              "  }\n",
              "\n",
              "  .colab-df-quickchart:hover {\n",
              "    background-color: var(--hover-bg-color);\n",
              "    box-shadow: 0 1px 2px rgba(60, 64, 67, 0.3), 0 1px 3px 1px rgba(60, 64, 67, 0.15);\n",
              "    fill: var(--button-hover-fill-color);\n",
              "  }\n",
              "\n",
              "  .colab-df-quickchart-complete:disabled,\n",
              "  .colab-df-quickchart-complete:disabled:hover {\n",
              "    background-color: var(--disabled-bg-color);\n",
              "    fill: var(--disabled-fill-color);\n",
              "    box-shadow: none;\n",
              "  }\n",
              "\n",
              "  .colab-df-spinner {\n",
              "    border: 2px solid var(--fill-color);\n",
              "    border-color: transparent;\n",
              "    border-bottom-color: var(--fill-color);\n",
              "    animation:\n",
              "      spin 1s steps(1) infinite;\n",
              "  }\n",
              "\n",
              "  @keyframes spin {\n",
              "    0% {\n",
              "      border-color: transparent;\n",
              "      border-bottom-color: var(--fill-color);\n",
              "      border-left-color: var(--fill-color);\n",
              "    }\n",
              "    20% {\n",
              "      border-color: transparent;\n",
              "      border-left-color: var(--fill-color);\n",
              "      border-top-color: var(--fill-color);\n",
              "    }\n",
              "    30% {\n",
              "      border-color: transparent;\n",
              "      border-left-color: var(--fill-color);\n",
              "      border-top-color: var(--fill-color);\n",
              "      border-right-color: var(--fill-color);\n",
              "    }\n",
              "    40% {\n",
              "      border-color: transparent;\n",
              "      border-right-color: var(--fill-color);\n",
              "      border-top-color: var(--fill-color);\n",
              "    }\n",
              "    60% {\n",
              "      border-color: transparent;\n",
              "      border-right-color: var(--fill-color);\n",
              "    }\n",
              "    80% {\n",
              "      border-color: transparent;\n",
              "      border-right-color: var(--fill-color);\n",
              "      border-bottom-color: var(--fill-color);\n",
              "    }\n",
              "    90% {\n",
              "      border-color: transparent;\n",
              "      border-bottom-color: var(--fill-color);\n",
              "    }\n",
              "  }\n",
              "</style>\n",
              "\n",
              "  <script>\n",
              "    async function quickchart(key) {\n",
              "      const quickchartButtonEl =\n",
              "        document.querySelector('#' + key + ' button');\n",
              "      quickchartButtonEl.disabled = true;  // To prevent multiple clicks.\n",
              "      quickchartButtonEl.classList.add('colab-df-spinner');\n",
              "      try {\n",
              "        const charts = await google.colab.kernel.invokeFunction(\n",
              "            'suggestCharts', [key], {});\n",
              "      } catch (error) {\n",
              "        console.error('Error during call to suggestCharts:', error);\n",
              "      }\n",
              "      quickchartButtonEl.classList.remove('colab-df-spinner');\n",
              "      quickchartButtonEl.classList.add('colab-df-quickchart-complete');\n",
              "    }\n",
              "    (() => {\n",
              "      let quickchartButtonEl =\n",
              "        document.querySelector('#df-93dc7b83-8360-496c-be16-ed2d4e225ba0 button');\n",
              "      quickchartButtonEl.style.display =\n",
              "        google.colab.kernel.accessAllowed ? 'block' : 'none';\n",
              "    })();\n",
              "  </script>\n",
              "</div>\n",
              "    </div>\n",
              "  </div>\n"
            ],
            "application/vnd.google.colaboratory.intrinsic+json": {
              "type": "dataframe",
              "variable_name": "data",
              "summary": "{\n  \"name\": \"data\",\n  \"rows\": 38654,\n  \"fields\": [\n    {\n      \"column\": \"Text\",\n      \"properties\": {\n        \"dtype\": \"string\",\n        \"num_unique_values\": 38654,\n        \"samples\": [\n          \"HOUSTON (Reuters) - Buckeye Partners LP s Yabucoa oil terminal in Puerto Rico remained closed on Friday, the company said, days after Hurricane Maria left a trail of destruction and at least 25 people dead across the Caribbean. The U.S. oil storage and transportation company did not say if the tanks at the 4.6-million-barrel terminal were damaged by the storm, which made landfall near Yabucoa, but it said a full assessment of the facility is under way.  We are working to maintain the safety and well-being of our Yabucoa, Puerto Rico employees,  it said in a statement. A larger terminal operated by U.S. NuStar Energy LP on the island of St. Eustatius, with capacity to store up to 13.03 million barrels of oil, also has been unable to reopen after a previous hurricane, Irma, affected several tanks. The closure of oil terminals in the Caribbean and restrictions to load and discharge large vessels in several Texas ports have constrained flows of crude and refined products across the Atlantic in recent weeks. Maria, the second major hurricane to hit the Caribbean this month, lashed the Turks and Caicos Islands on Friday after knocking out power to all of Puerto Rico and pushing several rivers to record flood levels. \",\n          \"HONOLULU (Reuters) - U.S. President Barack Obama said in an interview broadcast on Monday that he would have won most Americans\\u00e2\\u20ac\\u2122 support if he had been able to run against Donald Trump for a third term. \\u00e2\\u20ac\\u0153No way!\\u00e2\\u20ac\\u009d Trump countered in a tweet, citing as liabilities U.S. companies taking jobs overseas, the fight against Islamic State militants and Obama\\u00e2\\u20ac\\u2122s signature healthcare law. Barred by the U.S. Constitution from seeking a third four-year-term, the president told his former adviser David Axelrod in a podcast that Americans would have backed Obama\\u00e2\\u20ac\\u2122s vision. \\u00e2\\u20ac\\u0153I\\u00e2\\u20ac\\u2122m confident that if I had run again and articulated it, I think I could\\u00e2\\u20ac\\u2122ve mobilized a majority of the American people to rally behind it,\\u00e2\\u20ac\\u009d Obama said, referring to his 2008 campaign message of hope and change. A wealthy businessman, the Republican Trump will assume his first public office when he succeeds Obama on Jan. 20. He defeated Democrat Hillary Clinton on Nov. 8 with a promise to clean up Washington. In a tweet, Clinton spokesman Brian Fallon said Obama would have beaten Trump and Clinton would have won if not for an FBI statement shortly before the election disclosing new material on Clinton\\u00e2\\u20ac\\u2122s email practices as secretary of state. Clinton\\u00e2\\u20ac\\u2122s aides have said FBI Director James Comey\\u00e2\\u20ac\\u2122s announcement, which led to no charges, swung the election, a charge Trump\\u00e2\\u20ac\\u2122s team has dismissed. Obama said Clinton \\u00e2\\u20ac\\u0153performed wonderfully under really tough circumstances.\\u00e2\\u20ac\\u009d He said she focused on Trump\\u00e2\\u20ac\\u2122s flaws and could have argued more that the Democratic Party agenda helped working people. Trump garnered more than 270 of the 538 state-by-state electoral votes to win the presidency. Clinton won 48.2 percent of the popular vote compared with 46.1 percent for Trump, according to the Associated Press. \",\n          \"There is only ONE WAY to STOP this mosque from being built against the wishes of citizens in this RESIDENTIAL area, whose citizens are comprised of mostly Christian refugees that fled from Iraq to escape persecution at the hands of Muslims in their homeland: Call the US DOJ and ask our new Attorney General Jeff Sessions to review this case TODAY and ask the DOJ to STOP the mega-mosque from being built: 202-514-2000 A city of 130,000 people in southeastern Michigan is under the gun of Islamic pressure following its denial of a mega-mosque in a residential neighborhood populated largely by Christian refugees who fled Islamic persecution in Iraq.Sterling Heights already has two mosques, but a third, the American Islamic Community Center, applied for a permit and was rejected after it was determined its proposed use was incompatible with the residential area. Too much traffic, too little parking, the city planning commission decided by a 9-0 vote against the mosque in September 2015.But in December, the mosque sued the city and the Obama Justice Department joined in, claiming the real reason the mosque was denied was because the city was caving to anti-Muslim bigotry in the community. Now, a settlement deal is headed to the Sterling Heights City Council on Tuesday evening. If the council votes to sign the deal, it could be very costly for the city.Watch the attorney for the mosque developers call the reasons these mostly Christian refugees from Iraq are in opposition to a mosque being built its their residential neighborhood  fake :Local residents fear it s a bad deal, something similar to the Obama DOJ-orchestrated deal forced upon nearby Pittsfield Township, Michigan, last year. That town had to pay out $1.7 million to local Muslims to whom it had denied a permit for an Islamic school, and township employees were ordered to undergo sensitivity training to assure they never again discriminate against Muslims.Attorney General Jeff Sessions could cancel any similar deal from taking effect in Sterling Heights, but only if he is aware of it and acts quickly. If the city council is found to be cooperating with the Obama DOJ staff who are expediting this consent order to stick it to the Sessions/Trump team, then this city will go nuts,  said Dick Manaserri, spokesman for Secure Michigan, a group formed to educate the public on Shariah law and how it differs from American law.In last November s presidential election, Donald Trump carried Sterling Heights, normally a Democratic Party stronghold, by 56 to 44 percent over Hillary Clinton. He also carried Macomb County, home to Sterling Heights and also a Democratic-oriented county.But Trump s new AG, Sessions, is apparently not yet fully in control of the Justice Department, which includes many holdovers from the Obama administration. Why else would Jeff Sessions not dismiss the Obama DOJ lawsuit against Sterling Heights?  Manaserri asks.  We have been told by legal experts that he has the power to simply dismiss the lawsuit. A consent order typically implies wrongdoing with the application of penalties. When the planning commission denied the mosque permit in September 2015, hundreds of Sterling Heights residents gathered outside City Hall to celebrate. That celebration was caught on video, and critics cited it as evidence the city was somehow biased against Muslims. Tom Mitchell is a resident of Sterling Heights whose family has been there since 1965. He s seen the city s transformation over the past couple of decades under the control of what he calls  progressives.  He avoids the world  Democrat  because the city s elections are technically nonpartisan. I feel that with the left taking over, they are destroying this community. I don t want to become another Dearborn or a Hamtramck. And our elected officials are enabling this takeover,  he said.Hamtramck, just a few miles south of Sterling Heights, became the nation s first city with a Muslim-majority city council in 2016, and a large portion of Dearborn resembles a Middle Eastern country with signs in Arabic and women walking the streets with their faces veiled.He said it s not a matter of discrimination. Churches have been denied building projects in the past because their sites were too close to residential housing. They didn t get the federal government to sue the city; they simply picked another site. I truly believe this one man, Mr. Sessions, has the power to throw out any consent decree that was engineered by Obama s Department of Justice. That is our hope,  Mitchell said.  In fact, I know of hundreds of us who are praying for that opportunity to get it in Jeff Sessions  hands, before Tuesday night, because once it s signed, how do you overturn that? Signing it is tantamount to a consent that we re a bunch of bigots here in Sterling Heights. Calls to Sessions  press office went unanswered Monday as all federal offices were closed for President s Day. A stinger in the eye  of Iraqi Christians in Sterling HeightsMitchell said he and others are trying to get the word out in the community that the Tuesday council meeting will include an agenda item on a proposed settlement to the lawsuit.But the city council did not publish its Tuesday-night agenda in the local legal newspaper, the weekly Sterling Heights Sentry, and it didn t put a notice on its official website until late Friday. We just found out about this, so we ve been rushing to try to put together an opposition to stop the city from signing this document, which is an admission of guilt to something we don t think we committed,  Mitchell said.  As a local resident, I m gonna say we don t discriminate in Sterling Heights. We ve already got two mosques, a Sikh temple, a Buddhist temple and many other diverse houses of worship, so for this city to be called discriminatory is unbelievable. The unfortunate thing is, they want to plop it right in the middle of a Chaldean Christian neighborhood,  Mitchell added.  Somebody planned that. Somebody is seeking to put a stinger in someone s eye. Dr. Ramsay Dass, M.D., president of the American Middle East Christian Congress, said he is not so concerned about another mosque being built in Sterling Heights. He s more concerned about the big picture of political pressure being placed on small cities by an out-of-control federal bureaucracy using coercive tactics. As an American citizen, they are entitled to build a mosque, but I do not believe in making laws that small cities and towns cannot fight politically or financially,  Dass told WND.The federal law being used to coerce cities into approving mosques, even when the mosque is in a residential neighborhood, is the Religion Land Use and Institutional Persons Act, or RELUIPA, which was passed by Congress in 2000.As WND has reported, the Obama administration used this law increasingly against communities denying mosques and less against those denying the construction of churches.Nahren Anweya is a spokesperson for the persecuted Middle Eastern Christians living in Michigan. She has appeared on Fox News and spoken at congressional hearings on Christian persecution in the Middle East. Her family has been living in Michigan since they escaped Iraq in 1989. She said Sterling Heights is home to the nation s second largest Chaldean Catholic community of Iraqi Christians. They thought they found a safe haven, only to find out their ancient nemesis, the Middle Eastern Sunni Muslims, were being resettled in the same county and wanted to build a mosque right in the middle of their neighborhood.Most Iraqi Christians are either Chaldean Catholic or members of an even more ancient Christian sect, the Assyrian Church of the East. The Assyrians speak Aramaic, the language of Jesus. My family they re pretty patriotic American Assyrian Christians. Both of my great-grandfathers were crucified by Muslims literally on a cross,  Anweya told WND.  And that was because they were proud Christians, my great-grandfather used to walk around with a large gold cross around his neck, we never tried to hide it. So to see those ancient persecutors not only showing up in Macomb County en masse, but building a mosque on top of the Chaldean neighborhood, is  traumatizing,  Anweya said. While we are living in our safe haven, to allow a mosque to be built where we are is like putting us back to Iraq. We left everything behind to start from scratch, and then watching it follow us, this is traumatizing,  she said.  There are so many Muslim countries who could take these Muslim refugees, but they send them here. If we were treated fairly in their countries, then I would say let them build as many mosques as they want, but that day is far from reality. She said Muslim leaders don t believe in equality, and anything they say on that level is mere pandering to gullible local Christians. They don t believe in equality, even if they say they do,  she said.  Show me a Muslim country where Christians are treated 100 percent equal. Why is Christianity being degraded in every Muslim country? In 2003, we were 1.3 million Christians in Iraq, and that is where Christianity began and thrived, and now these are people who would be beheaded for their Christian faith. So, she said, the Assyrian and Chaldean communities have news for the Islamic centers that wish to build in their midst: These people are not going to give up their Christian faith,  Anweya said.  Where a nation is most vulnerable, is when they are not even calling themselves Christian anymore, that s the most dangerous I believe. When the sword is placed to your neck it s too late,  she added.  The Christians from Iraq, we are not building churches in Dearborn, so why are they building mosques in Sterling Heights? If we started building churches in Dearborn, I think you would see a few protests coming from them. Read more at:WND \"\n        ],\n        \"semantic_type\": \"\",\n        \"description\": \"\"\n      }\n    },\n    {\n      \"column\": \"label\",\n      \"properties\": {\n        \"dtype\": \"number\",\n        \"std\": 0,\n        \"min\": 0,\n        \"max\": 1,\n        \"num_unique_values\": 2,\n        \"samples\": [\n          0,\n          1\n        ],\n        \"semantic_type\": \"\",\n        \"description\": \"\"\n      }\n    }\n  ]\n}"
            }
          },
          "metadata": {},
          "execution_count": 17
        }
      ],
      "source": [
        "data['label'] = data['label'].map({'Real': 1, 'Fake': 0})\n",
        "data.head()"
      ]
    },
    {
      "cell_type": "markdown",
      "metadata": {
        "id": "rTAxLND4Y250"
      },
      "source": [
        "## **Data Preprocessing**"
      ]
    },
    {
      "cell_type": "markdown",
      "metadata": {
        "id": "kZYTGFo8Zw_v"
      },
      "source": [
        "**Tokenizing the data**\n",
        "\n",
        "\n",
        "This tokenizes the text data in the 'Text' column of the DataFrame."
      ]
    },
    {
      "cell_type": "code",
      "execution_count": 18,
      "metadata": {
        "colab": {
          "base_uri": "https://localhost:8080/"
        },
        "id": "IPqwlyNIY3c_",
        "outputId": "8321db2a-dc43-4dfa-872b-830dbfd85c99"
      },
      "outputs": [
        {
          "output_type": "stream",
          "name": "stdout",
          "text": [
            "Tokenizing\n",
            "\n",
            "Tokenized successfully.\n"
          ]
        }
      ],
      "source": [
        "print('Tokenizing')\n",
        "data['Text']=data['Text'].apply(word_tokenize)\n",
        "print()\n",
        "print(\"Tokenized successfully.\")"
      ]
    },
    {
      "cell_type": "markdown",
      "metadata": {
        "id": "wyeHmSShY9qz"
      },
      "source": [
        "**Stemming the data**"
      ]
    },
    {
      "cell_type": "markdown",
      "metadata": {
        "id": "J1d_eEs-0lss"
      },
      "source": [
        "**What is STEMMING ?**\n",
        "\n",
        "*Stemming is the process of reducing words to their root or base form, stripping away prefixes, suffixes, and inflections. It helps in simplifying words to their common form, which can aid in tasks like text analysis and natural language processing.*\n",
        "\n",
        "*SnowballStemmer is a stemming algorithm available in NLTK. It is designed to support multiple languages and provides accurate stemming. It follows a set of rules and algorithms specific to each language to perform stemming effectively.*"
      ]
    },
    {
      "cell_type": "markdown",
      "metadata": {
        "id": "lgcUbKXO1lag"
      },
      "source": [
        "This code snippet initializes a SnowballStemmer for English and then defines a function stem_it to apply stemming to each token in the text. Finally, it applies this function to the 'Text' column of the DataFrame, replacing the tokenized text with the stemmed tokens."
      ]
    },
    {
      "cell_type": "code",
      "execution_count": 19,
      "metadata": {
        "colab": {
          "base_uri": "https://localhost:8080/"
        },
        "id": "z0Lu9KtNY-ED",
        "outputId": "a24cd7e0-edf7-4086-fbec-48e95996c5d7"
      },
      "outputs": [
        {
          "output_type": "stream",
          "name": "stdout",
          "text": [
            "Stemming\n",
            "\n",
            "Stemmed successfully.\n"
          ]
        }
      ],
      "source": [
        "print('Stemming')\n",
        "porter=SnowballStemmer(\"english\",ignore_stopwords=False)\n",
        "def stem_it(text):\n",
        "    return [porter.stem(word) for word in text]\n",
        "data['Text']=data['Text'].apply(stem_it)\n",
        "print()\n",
        "print(\"Stemmed successfully.\")"
      ]
    },
    {
      "cell_type": "markdown",
      "metadata": {
        "id": "YrGxvEZhZEvu"
      },
      "source": [
        "**Removing stopword**"
      ]
    },
    {
      "cell_type": "markdown",
      "metadata": {
        "id": "-10m-n892MK2"
      },
      "source": [
        "\n",
        "This code snippet removes stopwords from the text data and filters out words with a length of less than or equal to 2 characters. Finally, it rejoins the remaining words into a single string."
      ]
    },
    {
      "cell_type": "code",
      "execution_count": 20,
      "metadata": {
        "colab": {
          "base_uri": "https://localhost:8080/"
        },
        "id": "VgZuJkqTZFyy",
        "outputId": "b5d6a987-c175-443d-a4d9-364a9e77f205"
      },
      "outputs": [
        {
          "output_type": "stream",
          "name": "stdout",
          "text": [
            "Stopword Removal\n",
            "\n",
            "Stop words removed successfully.\n"
          ]
        }
      ],
      "source": [
        "print('Stopword Removal')\n",
        "def stop_it(t):\n",
        "    dt=[word for word in t if len(word)>2]\n",
        "    return dt\n",
        "data['Text']=data['Text'].apply(stop_it)\n",
        "data['Text']=data['Text'].apply(' '.join)\n",
        "print()\n",
        "print(\"Stop words removed successfully.\")"
      ]
    },
    {
      "cell_type": "markdown",
      "metadata": {
        "id": "fMiASlRMZJdC"
      },
      "source": [
        "## **Train Test Split**"
      ]
    },
    {
      "cell_type": "markdown",
      "metadata": {
        "id": "67CNDucUaOoE"
      },
      "source": [
        "**Splitting the dataset into train and test samples**"
      ]
    },
    {
      "cell_type": "code",
      "execution_count": 21,
      "metadata": {
        "colab": {
          "base_uri": "https://localhost:8080/"
        },
        "id": "ZLnQZxtzZJ-o",
        "outputId": "c30032e1-a9a1-4446-9afe-414f149c3417"
      },
      "outputs": [
        {
          "output_type": "stream",
          "name": "stdout",
          "text": [
            "Splitting dataset\n"
          ]
        }
      ],
      "source": [
        "print('Splitting dataset')\n",
        "X_train,X_test,y_train,y_test = train_test_split(data['Text'],data['label'],test_size=0.25)"
      ]
    },
    {
      "cell_type": "markdown",
      "metadata": {
        "id": "mYcQbGZBZLpC"
      },
      "source": [
        "## **Vectorization**"
      ]
    },
    {
      "cell_type": "markdown",
      "metadata": {
        "id": "1Z8P-N_hab6V"
      },
      "source": [
        "**Vectorizing the Natural Language using TF-IDF Vectorizer**"
      ]
    },
    {
      "cell_type": "markdown",
      "metadata": {
        "id": "1yEg2pQ02d46"
      },
      "source": [
        "*TF-IDF Vectorizer converts text data into numerical vectors based on the importance of words in documents.*\n",
        "\n",
        "This code segment performs TF-IDF vectorization on the training and test text data."
      ]
    },
    {
      "cell_type": "code",
      "execution_count": 22,
      "metadata": {
        "colab": {
          "base_uri": "https://localhost:8080/"
        },
        "id": "Nd11P95PZMaZ",
        "outputId": "249e39cd-ea6d-4257-b8cc-f0749d993ac9"
      },
      "outputs": [
        {
          "output_type": "stream",
          "name": "stdout",
          "text": [
            "Vectorization (TF-IDF)\n"
          ]
        }
      ],
      "source": [
        "print('Vectorization (TF-IDF)')\n",
        "my_tfidf = TfidfVectorizer(max_df=0.7)\n",
        "\n",
        "tfidf_train = my_tfidf.fit_transform(X_train)\n",
        "tfidf_test = my_tfidf.transform(X_test)\n"
      ]
    },
    {
      "cell_type": "markdown",
      "metadata": {
        "id": "WLjSMaPaZPpv"
      },
      "source": [
        "## **Training Models**"
      ]
    },
    {
      "cell_type": "markdown",
      "metadata": {
        "id": "z6fHSLtZaxmq"
      },
      "source": [
        "**Logistic Regression** : *A statistical method used for binary classification, predicting the probability of an event occurring based on one or more predictor variables. It models the relationship between the categorical dependent variable and independent variables by estimating probabilities using the logistic function.*\n",
        "\n",
        "\n",
        "This code snipper applies the Logistic Regression with 900 iterations on TF-IDF transformed data to predict the authenticity of news articles, calculating and printing the accuracy of its predictions."
      ]
    },
    {
      "cell_type": "code",
      "execution_count": 27,
      "metadata": {
        "colab": {
          "base_uri": "https://localhost:8080/"
        },
        "id": "GNK5PyOsZQBz",
        "outputId": "8950c845-f42c-40ac-c8fd-3310256f688d"
      },
      "outputs": [
        {
          "output_type": "stream",
          "name": "stdout",
          "text": [
            "Logistic Regression\n",
            "The accuracy of prediction in Logistic Regression Model is  98.996\n"
          ]
        }
      ],
      "source": [
        "print('Logistic Regression')\n",
        "model_1 = LogisticRegression(max_iter = 900)\n",
        "model_1.fit(tfidf_train, y_train)\n",
        "pred_1 = model_1.predict(tfidf_test)\n",
        "cr1 = accuracy_score(y_test,pred_1)\n",
        "\n",
        "print('The accuracy of prediction in Logistic Regression Model is ', round(cr1 * 100, 3))"
      ]
    },
    {
      "cell_type": "code",
      "execution_count": 28,
      "metadata": {
        "id": "qYoQI91g8nC9",
        "colab": {
          "base_uri": "https://localhost:8080/",
          "height": 564
        },
        "outputId": "d02aa257-72fa-40b3-b01a-31be3264a112"
      },
      "outputs": [
        {
          "output_type": "display_data",
          "data": {
            "text/plain": [
              "<Figure size 800x600 with 2 Axes>"
            ],
            "image/png": "[encoded data removed]"
          },
          "metadata": {}
        }
      ],
      "source": [
        "cm_lr = confusion_matrix(y_test, pred_1)\n",
        "\n",
        "# Define class labels\n",
        "labels = ['Fake', 'Real']\n",
        "\n",
        "# Plot confusion matrix\n",
        "plt.figure(figsize=(8, 6))\n",
        "sns.heatmap(cm_lr, annot=True, fmt='d', cmap='Blues', xticklabels=labels, yticklabels=labels)\n",
        "plt.title('Confusion Matrix - Logistic Regression')\n",
        "plt.xlabel('Predicted labels')\n",
        "plt.ylabel('True labels')\n",
        "plt.show()"
      ]
    },
    {
      "cell_type": "markdown",
      "metadata": {
        "id": "CHb1j1kTZTWY"
      },
      "source": [
        "**Passive Aggressive Classifier** : *The Passive Aggressive Classifier is an online learning algorithm for binary classification.  It updates its model iteratively, allowing it to adapt to changes in the data distribution over time, making it particularly useful for real-time applications where continuous learning is necessary.*\n",
        "\n",
        "\n",
        "This code snippet applies the Passive Aggressive Classifier with 50 iterations on TF-IDF transformed data to predict the authenticity of news articles, calculating and printing the accuracy of its predictions.\n"
      ]
    },
    {
      "cell_type": "code",
      "execution_count": 29,
      "metadata": {
        "colab": {
          "base_uri": "https://localhost:8080/"
        },
        "id": "YJ_pA53oZT2W",
        "outputId": "64259420-3bad-447e-e9b9-55f870f08d04"
      },
      "outputs": [
        {
          "output_type": "stream",
          "name": "stdout",
          "text": [
            "Passive Aggressive Classifier\n",
            "The accuracy of prediction in Passive Aggressive Model is  99.679\n"
          ]
        }
      ],
      "source": [
        "print('Passive Aggressive Classifier')\n",
        "model = PassiveAggressiveClassifier(max_iter=50)\n",
        "model.fit(tfidf_train,y_train)\n",
        "\n",
        "y_pred = model.predict(tfidf_test)\n",
        "cr2 = accuracy_score(y_test,y_pred)\n",
        "\n",
        "print('The accuracy of prediction in Passive Aggressive Model is ', round(cr2 * 100, 3))"
      ]
    },
    {
      "cell_type": "code",
      "execution_count": 30,
      "metadata": {
        "id": "eGOQJ1N-8_T1",
        "colab": {
          "base_uri": "https://localhost:8080/",
          "height": 564
        },
        "outputId": "7994ac2e-9b23-4add-9fcd-6c17d9e9b0d1"
      },
      "outputs": [
        {
          "output_type": "display_data",
          "data": {
            "text/plain": [
              "<Figure size 800x600 with 2 Axes>"
            ],
            "image/png": "[encoded data removed]"
          },
          "metadata": {}
        }
      ],
      "source": [
        "cm_pa = confusion_matrix(y_test, y_pred)\n",
        "\n",
        "# Define class labels\n",
        "labels = ['Fake', 'Real']\n",
        "\n",
        "# Plot confusion matrix\n",
        "plt.figure(figsize=(8, 6))\n",
        "sns.heatmap(cm_pa, annot=True, fmt='d', cmap='Blues', xticklabels=labels, yticklabels=labels)\n",
        "plt.title('Confusion Matrix - Passive Aggressive Classifier')\n",
        "plt.xlabel('Predicted labels')\n",
        "plt.ylabel('True labels')\n",
        "plt.show()"
      ]
    }
  ],
  "metadata": {
    "colab": {
      "provenance": []
    },
    "kernelspec": {
      "display_name": "Python 3",
      "name": "python3"
    },
    "language_info": {
      "name": "python"
    }
  },
  "nbformat": 4,
  "nbformat_minor": 0
}